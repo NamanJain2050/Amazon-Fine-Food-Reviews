{
 "cells": [
  {
   "cell_type": "markdown",
   "metadata": {},
   "source": [
    "In this ipynb notebook, I aim to showcase my research on Amazon Fine Food reviews dataset for sentiment analysis purposes. We wish to try various word embedding techniques and try to see their effect with various classification algorithms. "
   ]
  },
  {
   "cell_type": "code",
   "execution_count": 1,
   "metadata": {},
   "outputs": [],
   "source": [
    "%matplotlib inline\n",
    "import warnings\n",
    "import time\n",
    "warnings.filterwarnings(\"ignore\")\n",
    "\n",
    "import sqlite3\n",
    "import pandas as pd\n",
    "import numpy as np\n",
    "import matplotlib.pyplot as plt\n",
    "import seaborn as sns\n",
    "import re\n",
    "from tqdm import tqdm_notebook, tqdm\n",
    "import dill\n",
    "\n",
    "from nltk.corpus import stopwords\n",
    "from nltk.stem import WordNetLemmatizer\n",
    "from nltk.stem import SnowballStemmer\n",
    "\n",
    "from sklearn.feature_extraction.text import CountVectorizer\n",
    "from sklearn.feature_extraction.text import TfidfVectorizer\n",
    "from sklearn.model_selection import train_test_split\n",
    "from sklearn.model_selection import GridSearchCV\n",
    "from sklearn.neighbors import KNeighborsClassifier\n",
    "from sklearn.metrics import roc_curve, auc, roc_auc_score, confusion_matrix, precision_recall_curve\n",
    "\n",
    "from gensim.models import Word2Vec\n",
    "from gensim.models import KeyedVectors"
   ]
  },
  {
   "cell_type": "code",
   "execution_count": 2,
   "metadata": {},
   "outputs": [],
   "source": [
    "#Pickle python objects to file\n",
    "import pickle\n",
    "def savetofile(obj,filename):\n",
    "    pickle.dump(obj,open(filename+\".p\",\"wb\"), protocol=4)\n",
    "def openfromfile(filename):\n",
    "    temp = pickle.load(open(filename+\".p\",\"rb\"))\n",
    "    return temp"
   ]
  },
  {
   "cell_type": "code",
   "execution_count": null,
   "metadata": {},
   "outputs": [],
   "source": [
    "dill.load_session('notebook_env.db')"
   ]
  },
  {
   "cell_type": "markdown",
   "metadata": {},
   "source": [
    "## Loading the data and First-Look Analysis"
   ]
  },
  {
   "cell_type": "code",
   "execution_count": 8,
   "metadata": {},
   "outputs": [],
   "source": [
    "db_con = sqlite3.connect('data/database.sqlite')\n",
    "\n",
    "#name of table: Reviews\n",
    "#currently we are trying to classify reviews as positive or negative, therefore we are considering reviews with \n",
    "#Score 3 as nuetral and hence ignoring them\n",
    "\n",
    "data_from_table = pd.read_sql_query(\"SELECT * FROM Reviews\", db_con)"
   ]
  },
  {
   "cell_type": "code",
   "execution_count": 9,
   "metadata": {},
   "outputs": [
    {
     "data": {
      "text/plain": [
       "(568454, 10)"
      ]
     },
     "execution_count": 9,
     "metadata": {},
     "output_type": "execute_result"
    }
   ],
   "source": [
    "data_from_table.shape"
   ]
  },
  {
   "cell_type": "markdown",
   "metadata": {},
   "source": [
    "Massive 5.6L data points, 10 columns"
   ]
  },
  {
   "cell_type": "code",
   "execution_count": 11,
   "metadata": {},
   "outputs": [
    {
     "data": {
      "text/html": [
       "<div>\n",
       "<style scoped>\n",
       "    .dataframe tbody tr th:only-of-type {\n",
       "        vertical-align: middle;\n",
       "    }\n",
       "\n",
       "    .dataframe tbody tr th {\n",
       "        vertical-align: top;\n",
       "    }\n",
       "\n",
       "    .dataframe thead th {\n",
       "        text-align: right;\n",
       "    }\n",
       "</style>\n",
       "<table border=\"1\" class=\"dataframe\">\n",
       "  <thead>\n",
       "    <tr style=\"text-align: right;\">\n",
       "      <th></th>\n",
       "      <th>Id</th>\n",
       "      <th>ProductId</th>\n",
       "      <th>UserId</th>\n",
       "      <th>ProfileName</th>\n",
       "      <th>HelpfulnessNumerator</th>\n",
       "      <th>HelpfulnessDenominator</th>\n",
       "      <th>Score</th>\n",
       "      <th>Time</th>\n",
       "      <th>Summary</th>\n",
       "      <th>Text</th>\n",
       "    </tr>\n",
       "  </thead>\n",
       "  <tbody>\n",
       "    <tr>\n",
       "      <th>0</th>\n",
       "      <td>1</td>\n",
       "      <td>B001E4KFG0</td>\n",
       "      <td>A3SGXH7AUHU8GW</td>\n",
       "      <td>delmartian</td>\n",
       "      <td>1</td>\n",
       "      <td>1</td>\n",
       "      <td>5</td>\n",
       "      <td>1303862400</td>\n",
       "      <td>Good Quality Dog Food</td>\n",
       "      <td>I have bought several of the Vitality canned d...</td>\n",
       "    </tr>\n",
       "    <tr>\n",
       "      <th>1</th>\n",
       "      <td>2</td>\n",
       "      <td>B00813GRG4</td>\n",
       "      <td>A1D87F6ZCVE5NK</td>\n",
       "      <td>dll pa</td>\n",
       "      <td>0</td>\n",
       "      <td>0</td>\n",
       "      <td>1</td>\n",
       "      <td>1346976000</td>\n",
       "      <td>Not as Advertised</td>\n",
       "      <td>Product arrived labeled as Jumbo Salted Peanut...</td>\n",
       "    </tr>\n",
       "    <tr>\n",
       "      <th>2</th>\n",
       "      <td>3</td>\n",
       "      <td>B000LQOCH0</td>\n",
       "      <td>ABXLMWJIXXAIN</td>\n",
       "      <td>Natalia Corres \"Natalia Corres\"</td>\n",
       "      <td>1</td>\n",
       "      <td>1</td>\n",
       "      <td>4</td>\n",
       "      <td>1219017600</td>\n",
       "      <td>\"Delight\" says it all</td>\n",
       "      <td>This is a confection that has been around a fe...</td>\n",
       "    </tr>\n",
       "    <tr>\n",
       "      <th>3</th>\n",
       "      <td>4</td>\n",
       "      <td>B000UA0QIQ</td>\n",
       "      <td>A395BORC6FGVXV</td>\n",
       "      <td>Karl</td>\n",
       "      <td>3</td>\n",
       "      <td>3</td>\n",
       "      <td>2</td>\n",
       "      <td>1307923200</td>\n",
       "      <td>Cough Medicine</td>\n",
       "      <td>If you are looking for the secret ingredient i...</td>\n",
       "    </tr>\n",
       "    <tr>\n",
       "      <th>4</th>\n",
       "      <td>5</td>\n",
       "      <td>B006K2ZZ7K</td>\n",
       "      <td>A1UQRSCLF8GW1T</td>\n",
       "      <td>Michael D. Bigham \"M. Wassir\"</td>\n",
       "      <td>0</td>\n",
       "      <td>0</td>\n",
       "      <td>5</td>\n",
       "      <td>1350777600</td>\n",
       "      <td>Great taffy</td>\n",
       "      <td>Great taffy at a great price.  There was a wid...</td>\n",
       "    </tr>\n",
       "  </tbody>\n",
       "</table>\n",
       "</div>"
      ],
      "text/plain": [
       "   Id   ProductId          UserId                      ProfileName  \\\n",
       "0   1  B001E4KFG0  A3SGXH7AUHU8GW                       delmartian   \n",
       "1   2  B00813GRG4  A1D87F6ZCVE5NK                           dll pa   \n",
       "2   3  B000LQOCH0   ABXLMWJIXXAIN  Natalia Corres \"Natalia Corres\"   \n",
       "3   4  B000UA0QIQ  A395BORC6FGVXV                             Karl   \n",
       "4   5  B006K2ZZ7K  A1UQRSCLF8GW1T    Michael D. Bigham \"M. Wassir\"   \n",
       "\n",
       "   HelpfulnessNumerator  HelpfulnessDenominator  Score        Time  \\\n",
       "0                     1                       1      5  1303862400   \n",
       "1                     0                       0      1  1346976000   \n",
       "2                     1                       1      4  1219017600   \n",
       "3                     3                       3      2  1307923200   \n",
       "4                     0                       0      5  1350777600   \n",
       "\n",
       "                 Summary                                               Text  \n",
       "0  Good Quality Dog Food  I have bought several of the Vitality canned d...  \n",
       "1      Not as Advertised  Product arrived labeled as Jumbo Salted Peanut...  \n",
       "2  \"Delight\" says it all  This is a confection that has been around a fe...  \n",
       "3         Cough Medicine  If you are looking for the secret ingredient i...  \n",
       "4            Great taffy  Great taffy at a great price.  There was a wid...  "
      ]
     },
     "execution_count": 11,
     "metadata": {},
     "output_type": "execute_result"
    }
   ],
   "source": [
    "data_from_table.head()"
   ]
  },
  {
   "cell_type": "markdown",
   "metadata": {},
   "source": [
    "Explanation of what columns mean =>\n",
    "\n",
    "1. Id: id of the review in DB table.\n",
    "2. ProductId: ID of the product for which the review is written\n",
    "3. UserId: ID of the user who wrote the review\n",
    "4. ProfileName: profile name of the user on Amazon\n",
    "5. HelpfulnessNumerator: Out of all the people who voted up or voted down this review, count of how many voted up\n",
    "6. HelpfulnessDenominator: count of all the people who voted up/down on this review\n",
    "7. Score: score given by the user who wrote the review. This is our <b> label </b>\n",
    "8. Time: time stamp at which review is posted. We can use this column for <b> time-based splitting of our data </b>\n",
    "9. Summary: Summary text provided by reviewer.\n",
    "10. Text: actual review content written by reviewer."
   ]
  },
  {
   "cell_type": "markdown",
   "metadata": {},
   "source": [
    "Note:\n",
    "1. Text and Summary columns contain actual review data and are will be most useful for sentiment analysis purposes.\n",
    "2. Score is our label\n",
    "3. Id, ProductId, UserId and ProfileName should be not that useful for sentiment analysis purposes and can be dropped.\n",
    "4. Time column can be used for time-based splitting of data\n",
    "5. Helpfulness columns can be used to quatify the score. If the given review has a ratio of HN to Hd close to 1,  means its score can be trusted. We can use this information to improve our model."
   ]
  },
  {
   "cell_type": "code",
   "execution_count": 12,
   "metadata": {},
   "outputs": [
    {
     "name": "stdout",
     "output_type": "stream",
     "text": [
      "<class 'pandas.core.frame.DataFrame'>\n",
      "RangeIndex: 568454 entries, 0 to 568453\n",
      "Data columns (total 10 columns):\n",
      "Id                        568454 non-null int64\n",
      "ProductId                 568454 non-null object\n",
      "UserId                    568454 non-null object\n",
      "ProfileName               568454 non-null object\n",
      "HelpfulnessNumerator      568454 non-null int64\n",
      "HelpfulnessDenominator    568454 non-null int64\n",
      "Score                     568454 non-null int64\n",
      "Time                      568454 non-null int64\n",
      "Summary                   568454 non-null object\n",
      "Text                      568454 non-null object\n",
      "dtypes: int64(5), object(5)\n",
      "memory usage: 43.4+ MB\n"
     ]
    }
   ],
   "source": [
    "data_from_table.info()"
   ]
  },
  {
   "cell_type": "code",
   "execution_count": 13,
   "metadata": {},
   "outputs": [
    {
     "data": {
      "text/plain": [
       "False"
      ]
     },
     "execution_count": 13,
     "metadata": {},
     "output_type": "execute_result"
    }
   ],
   "source": [
    "data_from_table.isnull().values.any()"
   ]
  },
  {
   "cell_type": "markdown",
   "metadata": {},
   "source": [
    "<b> There are no null values in our data which is very good for us. </b>"
   ]
  },
  {
   "cell_type": "code",
   "execution_count": 14,
   "metadata": {},
   "outputs": [
    {
     "data": {
      "text/plain": [
       "<matplotlib.axes._subplots.AxesSubplot at 0x7f23344b9c50>"
      ]
     },
     "execution_count": 14,
     "metadata": {},
     "output_type": "execute_result"
    },
    {
     "data": {
      "image/png": "[encoded data removed]",
      "text/plain": [
       "<Figure size 432x288 with 1 Axes>"
      ]
     },
     "metadata": {
      "needs_background": "light"
     },
     "output_type": "display_data"
    }
   ],
   "source": [
    "pd.value_counts(data_from_table['Score']).plot.bar()"
   ]
  },
  {
   "cell_type": "code",
   "execution_count": 15,
   "metadata": {},
   "outputs": [
    {
     "data": {
      "text/plain": [
       "5    0.638789\n",
       "4    0.141885\n",
       "1    0.091948\n",
       "3    0.075010\n",
       "2    0.052368\n",
       "Name: Score, dtype: float64"
      ]
     },
     "execution_count": 15,
     "metadata": {},
     "output_type": "execute_result"
    }
   ],
   "source": [
    "data_from_table['Score'].value_counts(normalize=True)"
   ]
  },
  {
   "cell_type": "markdown",
   "metadata": {},
   "source": [
    "~64% of data is from score = 5, and 14% of data is from score = 4. Thiss totals upto 78% of the whole data, which is the evidence of the fact that our data is <b> heavily skewed for positive class. <b>"
   ]
  },
  {
   "cell_type": "code",
   "execution_count": 16,
   "metadata": {},
   "outputs": [
    {
     "data": {
      "text/html": [
       "<div>\n",
       "<style scoped>\n",
       "    .dataframe tbody tr th:only-of-type {\n",
       "        vertical-align: middle;\n",
       "    }\n",
       "\n",
       "    .dataframe tbody tr th {\n",
       "        vertical-align: top;\n",
       "    }\n",
       "\n",
       "    .dataframe thead th {\n",
       "        text-align: right;\n",
       "    }\n",
       "</style>\n",
       "<table border=\"1\" class=\"dataframe\">\n",
       "  <thead>\n",
       "    <tr style=\"text-align: right;\">\n",
       "      <th></th>\n",
       "      <th>Id</th>\n",
       "      <th>HelpfulnessNumerator</th>\n",
       "      <th>HelpfulnessDenominator</th>\n",
       "      <th>Score</th>\n",
       "      <th>Time</th>\n",
       "    </tr>\n",
       "  </thead>\n",
       "  <tbody>\n",
       "    <tr>\n",
       "      <th>count</th>\n",
       "      <td>568454.000000</td>\n",
       "      <td>568454.000000</td>\n",
       "      <td>568454.00000</td>\n",
       "      <td>568454.000000</td>\n",
       "      <td>5.684540e+05</td>\n",
       "    </tr>\n",
       "    <tr>\n",
       "      <th>mean</th>\n",
       "      <td>284227.500000</td>\n",
       "      <td>1.743817</td>\n",
       "      <td>2.22881</td>\n",
       "      <td>4.183199</td>\n",
       "      <td>1.296257e+09</td>\n",
       "    </tr>\n",
       "    <tr>\n",
       "      <th>std</th>\n",
       "      <td>164098.679298</td>\n",
       "      <td>7.636513</td>\n",
       "      <td>8.28974</td>\n",
       "      <td>1.310436</td>\n",
       "      <td>4.804331e+07</td>\n",
       "    </tr>\n",
       "    <tr>\n",
       "      <th>min</th>\n",
       "      <td>1.000000</td>\n",
       "      <td>0.000000</td>\n",
       "      <td>0.00000</td>\n",
       "      <td>1.000000</td>\n",
       "      <td>9.393408e+08</td>\n",
       "    </tr>\n",
       "    <tr>\n",
       "      <th>25%</th>\n",
       "      <td>142114.250000</td>\n",
       "      <td>0.000000</td>\n",
       "      <td>0.00000</td>\n",
       "      <td>4.000000</td>\n",
       "      <td>1.271290e+09</td>\n",
       "    </tr>\n",
       "    <tr>\n",
       "      <th>50%</th>\n",
       "      <td>284227.500000</td>\n",
       "      <td>0.000000</td>\n",
       "      <td>1.00000</td>\n",
       "      <td>5.000000</td>\n",
       "      <td>1.311120e+09</td>\n",
       "    </tr>\n",
       "    <tr>\n",
       "      <th>75%</th>\n",
       "      <td>426340.750000</td>\n",
       "      <td>2.000000</td>\n",
       "      <td>2.00000</td>\n",
       "      <td>5.000000</td>\n",
       "      <td>1.332720e+09</td>\n",
       "    </tr>\n",
       "    <tr>\n",
       "      <th>max</th>\n",
       "      <td>568454.000000</td>\n",
       "      <td>866.000000</td>\n",
       "      <td>923.00000</td>\n",
       "      <td>5.000000</td>\n",
       "      <td>1.351210e+09</td>\n",
       "    </tr>\n",
       "  </tbody>\n",
       "</table>\n",
       "</div>"
      ],
      "text/plain": [
       "                  Id  HelpfulnessNumerator  HelpfulnessDenominator  \\\n",
       "count  568454.000000         568454.000000            568454.00000   \n",
       "mean   284227.500000              1.743817                 2.22881   \n",
       "std    164098.679298              7.636513                 8.28974   \n",
       "min         1.000000              0.000000                 0.00000   \n",
       "25%    142114.250000              0.000000                 0.00000   \n",
       "50%    284227.500000              0.000000                 1.00000   \n",
       "75%    426340.750000              2.000000                 2.00000   \n",
       "max    568454.000000            866.000000               923.00000   \n",
       "\n",
       "               Score          Time  \n",
       "count  568454.000000  5.684540e+05  \n",
       "mean        4.183199  1.296257e+09  \n",
       "std         1.310436  4.804331e+07  \n",
       "min         1.000000  9.393408e+08  \n",
       "25%         4.000000  1.271290e+09  \n",
       "50%         5.000000  1.311120e+09  \n",
       "75%         5.000000  1.332720e+09  \n",
       "max         5.000000  1.351210e+09  "
      ]
     },
     "execution_count": 16,
     "metadata": {},
     "output_type": "execute_result"
    }
   ],
   "source": [
    "data_from_table.describe()"
   ]
  },
  {
   "cell_type": "markdown",
   "metadata": {},
   "source": [
    "We see that around 25% of data has HD = 0, meaning for those reviews there is no vote provided by any other user. Also around 75% of data has upto HD = 2. Meaning there are alot of reviews with no/very less votes. \n",
    "\n",
    "<b> This information can be used to think about how much useful are HN and HD columns are how much can we rely on these columns to weight our scores. </b>"
   ]
  },
  {
   "cell_type": "markdown",
   "metadata": {},
   "source": [
    "## Data Cleaning"
   ]
  },
  {
   "cell_type": "code",
   "execution_count": 17,
   "metadata": {},
   "outputs": [
    {
     "data": {
      "text/plain": [
       "(568452, 10)"
      ]
     },
     "execution_count": 17,
     "metadata": {},
     "output_type": "execute_result"
    }
   ],
   "source": [
    "#dropping those rows for which (HelpfulnessNumerator > HelpfulnessDenominator)\n",
    "data_filtered_1 = data_from_table[data_from_table['HelpfulnessNumerator'] <= data_from_table['HelpfulnessDenominator']]\n",
    "data_filtered_1.shape"
   ]
  },
  {
   "cell_type": "code",
   "execution_count": 18,
   "metadata": {},
   "outputs": [
    {
     "data": {
      "text/plain": [
       "(393931, 10)"
      ]
     },
     "execution_count": 18,
     "metadata": {},
     "output_type": "execute_result"
    }
   ],
   "source": [
    "#Deduplication of entries\n",
    "data_filtered_2 = data_filtered_1.drop_duplicates(subset={\"UserId\",\"ProfileName\",\"Time\",\"Text\"}, keep='first', inplace=False)\n",
    "data_filtered_2.shape"
   ]
  },
  {
   "cell_type": "markdown",
   "metadata": {},
   "source": [
    "Woah! A massive ~1.7L of our data was duplicate."
   ]
  },
  {
   "cell_type": "code",
   "execution_count": 19,
   "metadata": {},
   "outputs": [
    {
     "data": {
      "text/html": [
       "<div>\n",
       "<style scoped>\n",
       "    .dataframe tbody tr th:only-of-type {\n",
       "        vertical-align: middle;\n",
       "    }\n",
       "\n",
       "    .dataframe tbody tr th {\n",
       "        vertical-align: top;\n",
       "    }\n",
       "\n",
       "    .dataframe thead th {\n",
       "        text-align: right;\n",
       "    }\n",
       "</style>\n",
       "<table border=\"1\" class=\"dataframe\">\n",
       "  <thead>\n",
       "    <tr style=\"text-align: right;\">\n",
       "      <th></th>\n",
       "      <th>Id</th>\n",
       "      <th>ProductId</th>\n",
       "      <th>UserId</th>\n",
       "      <th>ProfileName</th>\n",
       "      <th>HelpfulnessNumerator</th>\n",
       "      <th>HelpfulnessDenominator</th>\n",
       "      <th>Score</th>\n",
       "      <th>Time</th>\n",
       "      <th>Summary</th>\n",
       "      <th>Text</th>\n",
       "    </tr>\n",
       "  </thead>\n",
       "  <tbody>\n",
       "    <tr>\n",
       "      <th>0</th>\n",
       "      <td>1</td>\n",
       "      <td>B001E4KFG0</td>\n",
       "      <td>A3SGXH7AUHU8GW</td>\n",
       "      <td>delmartian</td>\n",
       "      <td>1</td>\n",
       "      <td>1</td>\n",
       "      <td>1</td>\n",
       "      <td>1303862400</td>\n",
       "      <td>Good Quality Dog Food</td>\n",
       "      <td>I have bought several of the Vitality canned d...</td>\n",
       "    </tr>\n",
       "    <tr>\n",
       "      <th>1</th>\n",
       "      <td>2</td>\n",
       "      <td>B00813GRG4</td>\n",
       "      <td>A1D87F6ZCVE5NK</td>\n",
       "      <td>dll pa</td>\n",
       "      <td>0</td>\n",
       "      <td>0</td>\n",
       "      <td>0</td>\n",
       "      <td>1346976000</td>\n",
       "      <td>Not as Advertised</td>\n",
       "      <td>Product arrived labeled as Jumbo Salted Peanut...</td>\n",
       "    </tr>\n",
       "    <tr>\n",
       "      <th>2</th>\n",
       "      <td>3</td>\n",
       "      <td>B000LQOCH0</td>\n",
       "      <td>ABXLMWJIXXAIN</td>\n",
       "      <td>Natalia Corres \"Natalia Corres\"</td>\n",
       "      <td>1</td>\n",
       "      <td>1</td>\n",
       "      <td>1</td>\n",
       "      <td>1219017600</td>\n",
       "      <td>\"Delight\" says it all</td>\n",
       "      <td>This is a confection that has been around a fe...</td>\n",
       "    </tr>\n",
       "    <tr>\n",
       "      <th>3</th>\n",
       "      <td>4</td>\n",
       "      <td>B000UA0QIQ</td>\n",
       "      <td>A395BORC6FGVXV</td>\n",
       "      <td>Karl</td>\n",
       "      <td>3</td>\n",
       "      <td>3</td>\n",
       "      <td>0</td>\n",
       "      <td>1307923200</td>\n",
       "      <td>Cough Medicine</td>\n",
       "      <td>If you are looking for the secret ingredient i...</td>\n",
       "    </tr>\n",
       "    <tr>\n",
       "      <th>4</th>\n",
       "      <td>5</td>\n",
       "      <td>B006K2ZZ7K</td>\n",
       "      <td>A1UQRSCLF8GW1T</td>\n",
       "      <td>Michael D. Bigham \"M. Wassir\"</td>\n",
       "      <td>0</td>\n",
       "      <td>0</td>\n",
       "      <td>1</td>\n",
       "      <td>1350777600</td>\n",
       "      <td>Great taffy</td>\n",
       "      <td>Great taffy at a great price.  There was a wid...</td>\n",
       "    </tr>\n",
       "  </tbody>\n",
       "</table>\n",
       "</div>"
      ],
      "text/plain": [
       "   Id   ProductId          UserId                      ProfileName  \\\n",
       "0   1  B001E4KFG0  A3SGXH7AUHU8GW                       delmartian   \n",
       "1   2  B00813GRG4  A1D87F6ZCVE5NK                           dll pa   \n",
       "2   3  B000LQOCH0   ABXLMWJIXXAIN  Natalia Corres \"Natalia Corres\"   \n",
       "3   4  B000UA0QIQ  A395BORC6FGVXV                             Karl   \n",
       "4   5  B006K2ZZ7K  A1UQRSCLF8GW1T    Michael D. Bigham \"M. Wassir\"   \n",
       "\n",
       "   HelpfulnessNumerator  HelpfulnessDenominator  Score        Time  \\\n",
       "0                     1                       1      1  1303862400   \n",
       "1                     0                       0      0  1346976000   \n",
       "2                     1                       1      1  1219017600   \n",
       "3                     3                       3      0  1307923200   \n",
       "4                     0                       0      1  1350777600   \n",
       "\n",
       "                 Summary                                               Text  \n",
       "0  Good Quality Dog Food  I have bought several of the Vitality canned d...  \n",
       "1      Not as Advertised  Product arrived labeled as Jumbo Salted Peanut...  \n",
       "2  \"Delight\" says it all  This is a confection that has been around a fe...  \n",
       "3         Cough Medicine  If you are looking for the secret ingredient i...  \n",
       "4            Great taffy  Great taffy at a great price.  There was a wid...  "
      ]
     },
     "execution_count": 19,
     "metadata": {},
     "output_type": "execute_result"
    }
   ],
   "source": [
    "#converting score of scale 1-5 to a binary value: \n",
    "#0 = negative (given to score < 3)\n",
    "#1 = positive (given to score >= 3)\n",
    "# score = 3 has already been ignored\n",
    "\n",
    "def binary_score(x):\n",
    "    if x < 3:\n",
    "        return 0\n",
    "    return 1\n",
    "\n",
    "actualScore = data_filtered_2['Score']\n",
    "binaryScore = actualScore.map(binary_score)\n",
    "data_filtered_2['Score'] = binaryScore\n",
    "data_filtered_2.head()"
   ]
  },
  {
   "cell_type": "code",
   "execution_count": 20,
   "metadata": {},
   "outputs": [
    {
     "name": "stdout",
     "output_type": "stream",
     "text": [
      "(393931, 10)\n"
     ]
    },
    {
     "data": {
      "text/plain": [
       "1    0.85503\n",
       "0    0.14497\n",
       "Name: Score, dtype: float64"
      ]
     },
     "execution_count": 20,
     "metadata": {},
     "output_type": "execute_result"
    }
   ],
   "source": [
    "#count how many positive and negative reviews are there\n",
    "print(data_filtered_2.shape)\n",
    "data_filtered_2['Score'].value_counts(normalize=True)"
   ]
  },
  {
   "cell_type": "markdown",
   "metadata": {},
   "source": [
    "Notes:\n",
    "1. Data is pretty imbalanced between two classes as we can see.\n",
    "2. We have made an assumption that <b> review with score = 3 is positive </b>"
   ]
  },
  {
   "cell_type": "code",
   "execution_count": 21,
   "metadata": {},
   "outputs": [],
   "source": [
    "# extracting lables\n",
    "labels = data_filtered_2['Score'].values"
   ]
  },
  {
   "cell_type": "markdown",
   "metadata": {},
   "source": [
    "## Text Pre-Processing"
   ]
  },
  {
   "cell_type": "markdown",
   "metadata": {},
   "source": [
    "These are some standard pre-processing steps that can be applied for cleaning text data. These include:\n",
    "1. Removal of links\n",
    "2. Removal of HTML tags\n",
    "3. Decontraction of words\n",
    "4. Removal of stop words\n",
    "5. Removal of numbers, special characters, punctuations and whitespaces\n",
    "5. Removal of repititive characters\n",
    "6. Removal of short length words (generally words with length <= 2 are removed)\n",
    "7. Tokenization\n",
    "8. Stemming/Lemmatization"
   ]
  },
  {
   "cell_type": "markdown",
   "metadata": {},
   "source": [
    "### Remove all links"
   ]
  },
  {
   "cell_type": "code",
   "execution_count": 16,
   "metadata": {},
   "outputs": [],
   "source": [
    "def removeLinks(text):\n",
    "    text = re.sub(r'http\\S+', '', text, flags=re.MULTILINE)\n",
    "    return text\n",
    "\n",
    "data_filtered_2['Text'] = data_filtered_2['Text'].apply(removeLinks)\n",
    "data_filtered_2['Summary'] = data_filtered_2['Summary'].apply(removeLinks)"
   ]
  },
  {
   "cell_type": "markdown",
   "metadata": {},
   "source": [
    "### Remove all HTML tags"
   ]
  },
  {
   "cell_type": "code",
   "execution_count": 17,
   "metadata": {},
   "outputs": [],
   "source": [
    "def removeHTMLTags(text):\n",
    "    text = re.sub(r'<.*?>', '', text, flags=re.MULTILINE)\n",
    "    return text\n",
    "\n",
    "data_filtered_2['Text'] = data_filtered_2['Text'].apply(removeHTMLTags)\n",
    "data_filtered_2['Summary'] = data_filtered_2['Summary'].apply(removeHTMLTags)"
   ]
  },
  {
   "cell_type": "markdown",
   "metadata": {},
   "source": [
    "### Decontract english words\n",
    "won't --> will not"
   ]
  },
  {
   "cell_type": "code",
   "execution_count": 18,
   "metadata": {},
   "outputs": [],
   "source": [
    "def decontracted(phrase):\n",
    "    # specific\n",
    "    phrase = re.sub(r\"won\\'t\", \"will not\", phrase)\n",
    "    phrase = re.sub(r\"can\\'t\", \"can not\", phrase)\n",
    "\n",
    "    # general\n",
    "    phrase = re.sub(r\"n\\'t\", \" not\", phrase)\n",
    "    phrase = re.sub(r\"\\'re\", \" are\", phrase)\n",
    "    phrase = re.sub(r\"\\'s\", \" is\", phrase)\n",
    "    phrase = re.sub(r\"\\'d\", \" would\", phrase)\n",
    "    phrase = re.sub(r\"\\'ll\", \" will\", phrase)\n",
    "    phrase = re.sub(r\"\\'t\", \" not\", phrase)\n",
    "    phrase = re.sub(r\"\\'ve\", \" have\", phrase)\n",
    "    phrase = re.sub(r\"\\'m\", \" am\", phrase)\n",
    "    return phrase\n",
    "\n",
    "data_filtered_2['Text'] = data_filtered_2['Text'].apply(decontracted)\n",
    "data_filtered_2['Summary'] = data_filtered_2['Summary'].apply(decontracted)"
   ]
  },
  {
   "cell_type": "markdown",
   "metadata": {},
   "source": [
    "### Convert to lower case"
   ]
  },
  {
   "cell_type": "code",
   "execution_count": 19,
   "metadata": {},
   "outputs": [],
   "source": [
    "def convertToLowerCase(text):\n",
    "    return text.lower()\n",
    "\n",
    "data_filtered_2['Text'] = data_filtered_2['Text'].apply(convertToLowerCase)\n",
    "data_filtered_2['Summary'] = data_filtered_2['Summary'].apply(convertToLowerCase)"
   ]
  },
  {
   "cell_type": "markdown",
   "metadata": {},
   "source": [
    "### Remove words with numbers"
   ]
  },
  {
   "cell_type": "code",
   "execution_count": 20,
   "metadata": {},
   "outputs": [],
   "source": [
    "def removeWordsWithNumbers(text):\n",
    "    return re.sub(r\"\\S*\\d\\S*\", \"\", text).strip()\n",
    "\n",
    "data_filtered_2['Text'] = data_filtered_2['Text'].apply(removeWordsWithNumbers)\n",
    "data_filtered_2['Summary'] = data_filtered_2['Summary'].apply(removeWordsWithNumbers)"
   ]
  },
  {
   "cell_type": "markdown",
   "metadata": {},
   "source": [
    "### Remove Special Characters and Punctuations"
   ]
  },
  {
   "cell_type": "code",
   "execution_count": 21,
   "metadata": {},
   "outputs": [],
   "source": [
    "def removePuctuations(text):\n",
    "    return re.sub(r'[^A-Za-z0-9]+', ' ', text)\n",
    "\n",
    "data_filtered_2['Text'] = data_filtered_2['Text'].apply(removePuctuations)\n",
    "data_filtered_2['Summary'] = data_filtered_2['Summary'].apply(removePuctuations)"
   ]
  },
  {
   "cell_type": "markdown",
   "metadata": {},
   "source": [
    "### Remove whitespaces"
   ]
  },
  {
   "cell_type": "code",
   "execution_count": 22,
   "metadata": {},
   "outputs": [],
   "source": [
    "def removeWhiteSpaces(text):\n",
    "    return text.strip()\n",
    "\n",
    "data_filtered_2['Text'] = data_filtered_2['Text'].apply(removeWhiteSpaces)\n",
    "data_filtered_2['Summary'] = data_filtered_2['Summary'].apply(removeWhiteSpaces)"
   ]
  },
  {
   "cell_type": "markdown",
   "metadata": {},
   "source": [
    "### Remove Short Words"
   ]
  },
  {
   "cell_type": "code",
   "execution_count": null,
   "metadata": {},
   "outputs": [],
   "source": [
    "def removeShortWords(text):\n",
    "    return re.sub(r'\\b\\w{,2}\\b', '', text)\n",
    "\n",
    "data_filtered_2['Text'] = data_filtered_2['Text'].apply(removeShortWords)\n",
    "data_filtered_2['Summary'] = data_filtered_2['Summary'].apply(removeShortWords)"
   ]
  },
  {
   "cell_type": "markdown",
   "metadata": {},
   "source": [
    "### Remove words with repetitive characters\n",
    "aaaarrrggghhh -->argh\n",
    "aawww --> aw"
   ]
  },
  {
   "cell_type": "code",
   "execution_count": 24,
   "metadata": {},
   "outputs": [],
   "source": [
    "def removeRepetitiveChars(text):\n",
    "    return re.sub(r'(\\w)\\1+', r'\\1', text)\n",
    "\n",
    "data_filtered_2['Text'] = data_filtered_2['Text'].apply(removeRepetitiveChars)\n",
    "data_filtered_2['Summary'] = data_filtered_2['Summary'].apply(removeRepetitiveChars)"
   ]
  },
  {
   "cell_type": "markdown",
   "metadata": {},
   "source": [
    "### Remove stopwords"
   ]
  },
  {
   "cell_type": "code",
   "execution_count": 25,
   "metadata": {},
   "outputs": [],
   "source": [
    "stop_words = set(stopwords.words('english'))\n",
    "ignore_words = set(('no', 'nor', 'not'))\n",
    "stop_words = stop_words - ignore_words\n",
    "\n",
    "preprocessed_reviews = []\n",
    "for review in data_filtered_2['Text'].values:\n",
    "    review = ' '.join(e.lower() for e in review.split() if e.lower() not in stop_words)\n",
    "    preprocessed_reviews.append(review.strip())"
   ]
  },
  {
   "cell_type": "code",
   "execution_count": 26,
   "metadata": {},
   "outputs": [
    {
     "name": "stdout",
     "output_type": "stream",
     "text": [
      "393931\n",
      "whole box peanut buter dog cokies wont touch loves begs god buy litle chihuhua not big mouth per box\n"
     ]
    }
   ],
   "source": [
    "#verified\n",
    "print(len(preprocessed_reviews))\n",
    "print(preprocessed_reviews[1000])"
   ]
  },
  {
   "cell_type": "markdown",
   "metadata": {},
   "source": [
    "## Word Normalization"
   ]
  },
  {
   "cell_type": "markdown",
   "metadata": {},
   "source": [
    "### Stemming & Lemmatisation"
   ]
  },
  {
   "cell_type": "code",
   "execution_count": 27,
   "metadata": {},
   "outputs": [],
   "source": [
    "lemmatizer = WordNetLemmatizer()\n",
    "snowball = SnowballStemmer('english')\n",
    "\n",
    "final_reviews = []\n",
    "for review in preprocessed_reviews:\n",
    "    words = []\n",
    "    for word in review.split():\n",
    "        #word_after_stem = snowball.stem(word)\n",
    "        word_after_lem = lemmatizer.lemmatize(word, pos='v')\n",
    "        words.append(word_after_lem)\n",
    "    review = ' '.join(words)\n",
    "    final_reviews.append(review.strip())"
   ]
  },
  {
   "cell_type": "code",
   "execution_count": 28,
   "metadata": {},
   "outputs": [
    {
     "name": "stdout",
     "output_type": "stream",
     "text": [
      "393931\n",
      "whole box peanut buter dog cokies wont touch love beg god buy litle chihuhua not big mouth per box\n"
     ]
    }
   ],
   "source": [
    "#verified\n",
    "print(len(final_reviews))\n",
    "print(final_reviews[1000])"
   ]
  },
  {
   "cell_type": "markdown",
   "metadata": {},
   "source": [
    "Notice loves in above sentence got converted to love after lemmatisation\n",
    "Note: Why lemmatisation for sentiment analysis? <br>\n",
    "Words like love, loves, loving, loved all carry similar sentiment. So all of these words can be converted to a common word love. <b> This helps us reduce our feature space drastically and also help us remove highly correlated features. </b>"
   ]
  },
  {
   "cell_type": "markdown",
   "metadata": {},
   "source": [
    "<b> Checkpoint 1: Saving object </b>"
   ]
  },
  {
   "cell_type": "code",
   "execution_count": null,
   "metadata": {},
   "outputs": [],
   "source": [
    "savetofile(final_reviews, 'afterTextPreprocess')"
   ]
  },
  {
   "cell_type": "code",
   "execution_count": 4,
   "metadata": {},
   "outputs": [],
   "source": [
    "final_reviews = openfromfile('afterTextPreprocess')"
   ]
  },
  {
   "cell_type": "markdown",
   "metadata": {},
   "source": [
    "## Train-test split"
   ]
  },
  {
   "cell_type": "markdown",
   "metadata": {},
   "source": [
    "It is better to set aside some data in starting itself and never look at it for training purposes."
   ]
  },
  {
   "cell_type": "code",
   "execution_count": 23,
   "metadata": {},
   "outputs": [],
   "source": [
    "X_train, X_test, y_train, y_test = train_test_split(final_reviews, data_filtered_2['Score'], test_size=0.33, stratify=data_filtered_2['Score'])"
   ]
  },
  {
   "cell_type": "code",
   "execution_count": 30,
   "metadata": {},
   "outputs": [
    {
     "name": "stdout",
     "output_type": "stream",
     "text": [
      "Points in training data (X): 263933\n",
      "Points in training data (Y): 263933\n",
      "Points in test data (X): 129998\n",
      "Points in test data (Y): 129998\n"
     ]
    }
   ],
   "source": [
    "print('Points in training data (X): {}'.format(len(X_train)))\n",
    "print('Points in training data (Y): {}'.format(len(y_train)))\n",
    "print('Points in test data (X): {}'.format(len(X_test)))\n",
    "print('Points in test data (Y): {}'.format(len(y_test)))"
   ]
  },
  {
   "cell_type": "code",
   "execution_count": 28,
   "metadata": {},
   "outputs": [
    {
     "data": {
      "text/plain": [
       "<matplotlib.axes._subplots.AxesSubplot at 0x7f231abf3c50>"
      ]
     },
     "execution_count": 28,
     "metadata": {},
     "output_type": "execute_result"
    },
    {
     "data": {
      "image/png": "[encoded data removed]",
      "text/plain": [
       "<Figure size 432x288 with 1 Axes>"
      ]
     },
     "metadata": {
      "needs_background": "light"
     },
     "output_type": "display_data"
    }
   ],
   "source": [
    "pd.value_counts(y_train).plot.bar(title='Class distribution of Train set')"
   ]
  },
  {
   "cell_type": "code",
   "execution_count": 29,
   "metadata": {},
   "outputs": [
    {
     "data": {
      "text/plain": [
       "<matplotlib.axes._subplots.AxesSubplot at 0x7f2334aad208>"
      ]
     },
     "execution_count": 29,
     "metadata": {},
     "output_type": "execute_result"
    },
    {
     "data": {
      "image/png": "[encoded data removed]",
      "text/plain": [
       "<Figure size 432x288 with 1 Axes>"
      ]
     },
     "metadata": {
      "needs_background": "light"
     },
     "output_type": "display_data"
    }
   ],
   "source": [
    "pd.value_counts(y_test).plot.bar(title='Class distribution of Test set')"
   ]
  },
  {
   "cell_type": "markdown",
   "metadata": {},
   "source": [
    "These plots shows that we've same class distributions for both training and test set."
   ]
  },
  {
   "cell_type": "markdown",
   "metadata": {},
   "source": [
    "<b> Checkpoint 2: Saving object </b>"
   ]
  },
  {
   "cell_type": "code",
   "execution_count": 32,
   "metadata": {},
   "outputs": [],
   "source": [
    "savetofile(X_train, 'x_train')\n",
    "savetofile(X_test, 'x_test')\n",
    "savetofile(y_train, 'y_train')\n",
    "savetofile(y_test, 'y_testy_test')"
   ]
  },
  {
   "cell_type": "code",
   "execution_count": 6,
   "metadata": {},
   "outputs": [],
   "source": [
    "X_train = openfromfile('x_train')\n",
    "X_test = openfromfile('x_test')\n",
    "y_train = openfromfile('y_train')\n",
    "y_test = openfromfile('y_test')"
   ]
  },
  {
   "cell_type": "markdown",
   "metadata": {},
   "source": [
    "## Convert words to vector representations\n",
    "Convert a sentence (review) to vector"
   ]
  },
  {
   "cell_type": "markdown",
   "metadata": {},
   "source": [
    "### Bag Of Words (BOW)"
   ]
  },
  {
   "cell_type": "code",
   "execution_count": 4,
   "metadata": {},
   "outputs": [
    {
     "name": "stdout",
     "output_type": "stream",
     "text": [
      "Number of features = 85145\n",
      "Some features are: ['ab', 'aba', 'aback', 'abalone', 'abamectin', 'abandned', 'abandon', 'abandonment', 'abaolutely', 'abate', 'abaye', 'abc', 'abcstores', 'abd', 'abdomen', 'abdominal', 'abduct', 'abdul', 'abe', 'abeautiful', 'abeneficial', 'aber', 'aberant', 'aberation', 'aberations', 'aberden', 'aberfoyle', 'abernok', 'abeter', 'abey', 'abfab', 'abhor', 'abhorant', 'abhorent', 'abi', 'abide', 'abie', 'abietate', 'abietatered', 'abig', 'abigirl', 'abiling', 'abilities', 'ability', 'abilitywhat', 'abit', 'abita', 'abity', 'abject', 'ablaze']\n"
     ]
    }
   ],
   "source": [
    "count_vectorizer = CountVectorizer()\n",
    "bow_matrix = count_vectorizer.fit(X_train)\n",
    "print('Number of features = {}'.format(len(count_vectorizer.get_feature_names())))\n",
    "print('Some features are: {}'.format(count_vectorizer.get_feature_names()[:50]))\n",
    "\n",
    "X_train_bow_uni = count_vectorizer.transform(X_train)\n",
    "X_test_bow_uni = count_vectorizer.transform(X_test)"
   ]
  },
  {
   "cell_type": "markdown",
   "metadata": {},
   "source": [
    "There are around 85K features given by BOW. It means that we have around 85K unique words in our vocab."
   ]
  },
  {
   "cell_type": "markdown",
   "metadata": {},
   "source": [
    "### BOW with n-grams"
   ]
  },
  {
   "cell_type": "code",
   "execution_count": 5,
   "metadata": {},
   "outputs": [
    {
     "name": "stdout",
     "output_type": "stream",
     "text": [
      "Number of features = 2654049\n",
      "Some features are: ['ab', 'ab pure', 'aba', 'aba zaba', 'aba zabas', 'aback', 'aback amount', 'aback brand', 'aback bright', 'aback calorie', 'aback colour', 'aback delicious', 'aback eat', 'aback first', 'aback flavor', 'aback foreign', 'aback incredible', 'aback lack', 'aback main', 'aback much', 'aback not', 'aback open', 'aback order', 'aback package', 'aback pay', 'aback personalization', 'aback potency', 'aback presence', 'aback price', 'aback rise', 'aback saw', 'aback se', 'aback semed', 'aback size', 'aback smal', 'aback smel', 'aback smoth', 'aback somewhat', 'aback suply', 'aback tok', 'aback total', 'aback use', 'aback wonderful', 'abalone', 'abalone combination', 'abalone like', 'abalone not', 'abamectin', 'abamectin fipronil', 'abandned']\n"
     ]
    }
   ],
   "source": [
    "#n = 2\n",
    "count_vectorizer_ngram = CountVectorizer(ngram_range=(1,2))\n",
    "bow_matrix_ngram = count_vectorizer_ngram.fit(X_train)\n",
    "print('Number of features = {}'.format(len(count_vectorizer_ngram.get_feature_names())))\n",
    "print('Some features are: {}'.format(count_vectorizer_ngram.get_feature_names()[:50]))\n",
    "\n",
    "X_train_bow_bi = count_vectorizer_ngram.transform(X_train)\n",
    "X_test_bow_bi = count_vectorizer_ngram.transform(X_test)"
   ]
  },
  {
   "cell_type": "markdown",
   "metadata": {},
   "source": [
    "We get a massive 26.54L features. Let's see if this is useful or not."
   ]
  },
  {
   "cell_type": "markdown",
   "metadata": {},
   "source": [
    "### TF-IDF "
   ]
  },
  {
   "cell_type": "code",
   "execution_count": 6,
   "metadata": {},
   "outputs": [
    {
     "name": "stdout",
     "output_type": "stream",
     "text": [
      "Number of features = 85145\n",
      "Some features are: ['ab', 'aba', 'aback', 'abalone', 'abamectin', 'abandned', 'abandon', 'abandonment', 'abaolutely', 'abate', 'abaye', 'abc', 'abcstores', 'abd', 'abdomen', 'abdominal', 'abduct', 'abdul', 'abe', 'abeautiful', 'abeneficial', 'aber', 'aberant', 'aberation', 'aberations', 'aberden', 'aberfoyle', 'abernok', 'abeter', 'abey', 'abfab', 'abhor', 'abhorant', 'abhorent', 'abi', 'abide', 'abie', 'abietate', 'abietatered', 'abig', 'abigirl', 'abiling', 'abilities', 'ability', 'abilitywhat', 'abit', 'abita', 'abity', 'abject', 'ablaze']\n"
     ]
    }
   ],
   "source": [
    "td_idf_vectorizer = TfidfVectorizer()\n",
    "tf_idf_matrix = td_idf_vectorizer.fit(X_train)\n",
    "print('Number of features = {}'.format(len(td_idf_vectorizer.get_feature_names())))\n",
    "print('Some features are: {}'.format(td_idf_vectorizer.get_feature_names()[:50]))\n",
    "\n",
    "X_train_tf_uni = td_idf_vectorizer.transform(X_train)\n",
    "X_test_tf_uni = td_idf_vectorizer.transform(X_test)"
   ]
  },
  {
   "cell_type": "code",
   "execution_count": 7,
   "metadata": {},
   "outputs": [
    {
     "name": "stdout",
     "output_type": "stream",
     "text": [
      "Number of features = 2654049\n",
      "Some features are: ['ab', 'ab pure', 'aba', 'aba zaba', 'aba zabas', 'aback', 'aback amount', 'aback brand', 'aback bright', 'aback calorie', 'aback colour', 'aback delicious', 'aback eat', 'aback first', 'aback flavor', 'aback foreign', 'aback incredible', 'aback lack', 'aback main', 'aback much', 'aback not', 'aback open', 'aback order', 'aback package', 'aback pay', 'aback personalization', 'aback potency', 'aback presence', 'aback price', 'aback rise', 'aback saw', 'aback se', 'aback semed', 'aback size', 'aback smal', 'aback smel', 'aback smoth', 'aback somewhat', 'aback suply', 'aback tok', 'aback total', 'aback use', 'aback wonderful', 'abalone', 'abalone combination', 'abalone like', 'abalone not', 'abamectin', 'abamectin fipronil', 'abandned']\n"
     ]
    }
   ],
   "source": [
    "td_idf_vectorizer_ngram = TfidfVectorizer(ngram_range=(1,2))\n",
    "tf_idf_matrix_ngram = td_idf_vectorizer_ngram.fit(X_train)\n",
    "print('Number of features = {}'.format(len(td_idf_vectorizer_ngram.get_feature_names())))\n",
    "print('Some features are: {}'.format(td_idf_vectorizer_ngram.get_feature_names()[:50]))\n",
    "\n",
    "X_train_tf_bi = td_idf_vectorizer_ngram.transform(X_train)\n",
    "X_test_tf_bi = td_idf_vectorizer_ngram.transform(X_test)"
   ]
  },
  {
   "cell_type": "markdown",
   "metadata": {},
   "source": [
    "We got number of features for TF-IDF similar to BOWs for both unigram and bigram."
   ]
  },
  {
   "cell_type": "markdown",
   "metadata": {},
   "source": [
    "### Word2Vec (Google's Pre trained model)\n",
    "<br>\n",
    "Use this to get data:<br>\n",
    "    wget https://s3.amazonaws.com/dl4j-distribution/GoogleNews-vectors-negative300.bin.gz <br>\n",
    "    gunzip GoogleNews-vectors-negative300.bin."
   ]
  },
  {
   "cell_type": "code",
   "execution_count": 8,
   "metadata": {},
   "outputs": [],
   "source": [
    "#loading Google News dataset for W2V\n",
    "w2v_model = KeyedVectors.load_word2vec_format('preTrainedModels/GoogleNews-vectors-negative300.bin', binary=True)"
   ]
  },
  {
   "cell_type": "code",
   "execution_count": 9,
   "metadata": {},
   "outputs": [
    {
     "name": "stdout",
     "output_type": "stream",
     "text": [
      "[('dogs', 0.8680489659309387), ('puppy', 0.8106428384780884), ('pit_bull', 0.780396044254303), ('pooch', 0.7627377510070801), ('cat', 0.7609456777572632), ('golden_retriever', 0.7500902414321899), ('German_shepherd', 0.7465174198150635), ('Rottweiler', 0.7437614798545837), ('beagle', 0.7418621778488159), ('pup', 0.740691065788269)]\n",
      "============\n",
      "[('cats', 0.8099379539489746), ('dog', 0.7609456777572632), ('kitten', 0.7464985251426697), ('feline', 0.7326233983039856), ('beagle', 0.7150583267211914), ('puppy', 0.7075453996658325), ('pup', 0.6934291124343872), ('pet', 0.6891531348228455), ('felines', 0.6755931377410889), ('chihuahua', 0.6709762215614319)]\n",
      "============\n",
      "Size of a vector of google's trained model = 300\n"
     ]
    }
   ],
   "source": [
    "#test\n",
    "print(w2v_model.wv.most_similar('dog'))\n",
    "print('============')\n",
    "print(w2v_model.wv.most_similar('cat'))\n",
    "print('============')\n",
    "print('Size of a vector of google\\'s trained model = {}'.format(len(w2v_model.wv['great'])))"
   ]
  },
  {
   "cell_type": "markdown",
   "metadata": {},
   "source": [
    "#### Getting vectors for sentence using avg-W2V"
   ]
  },
  {
   "cell_type": "code",
   "execution_count": 10,
   "metadata": {},
   "outputs": [
    {
     "name": "stderr",
     "output_type": "stream",
     "text": [
      "100%|██████████| 263933/263933 [02:17<00:00, 1921.45it/s]\n"
     ]
    }
   ],
   "source": [
    "X_train_pre_avg = []\n",
    "\n",
    "#handling words that are not in google's vocab differently\n",
    "for review in tqdm(X_train):\n",
    "    sent_vec = np.zeros(300)\n",
    "    count_of_words_in_review = 0\n",
    "    for word in review.split():\n",
    "        if word not in w2v_model.wv:\n",
    "            sent_vec += np.random.uniform(-0.25,0.25,300)\n",
    "        else:\n",
    "            sent_vec += w2v_model.wv[word]\n",
    "        count_of_words_in_review += 1\n",
    "    if count_of_words_in_review != 0:\n",
    "        sent_vec /= count_of_words_in_review\n",
    "    X_train_pre_avg.append(sent_vec)"
   ]
  },
  {
   "cell_type": "code",
   "execution_count": 11,
   "metadata": {},
   "outputs": [
    {
     "name": "stderr",
     "output_type": "stream",
     "text": [
      "100%|██████████| 129998/129998 [01:08<00:00, 1897.59it/s]\n"
     ]
    }
   ],
   "source": [
    "X_test_pre_avg = []\n",
    "\n",
    "#test set\n",
    "for review in tqdm(X_test):\n",
    "    sent_vec = np.zeros(300)\n",
    "    count_of_words_in_review = 0\n",
    "    for word in review.split():\n",
    "        if word not in w2v_model.wv:\n",
    "            sent_vec += np.random.uniform(-0.25,0.25,300)\n",
    "        else:\n",
    "            sent_vec += w2v_model.wv[word]\n",
    "        count_of_words_in_review += 1\n",
    "    if count_of_words_in_review != 0:\n",
    "        sent_vec /= count_of_words_in_review\n",
    "    X_test_pre_avg.append(sent_vec)"
   ]
  },
  {
   "cell_type": "markdown",
   "metadata": {},
   "source": [
    "#### Getting vectors for sentence using TF-IDF W2V"
   ]
  },
  {
   "cell_type": "code",
   "execution_count": 12,
   "metadata": {},
   "outputs": [
    {
     "name": "stderr",
     "output_type": "stream",
     "text": [
      "100%|██████████| 263933/263933 [3:04:46<00:00, 23.81it/s]  \n"
     ]
    }
   ],
   "source": [
    "X_train_pre_tf = []\n",
    "\n",
    "dict_idf = dict(zip(td_idf_vectorizer.get_feature_names(), list(td_idf_vectorizer.idf_)))\n",
    "features = td_idf_vectorizer.get_feature_names()\n",
    "\n",
    "#handling words that are not in google's vocab differently\n",
    "for review in tqdm(X_train):\n",
    "    sent_vec = np.zeros(300)\n",
    "    weight_sum = 0\n",
    "    for word in review.split():\n",
    "        if (word in w2v_model.wv) and (word in features):\n",
    "            vec = w2v_model.wv[word]\n",
    "            tf_idf = dict_idf[word]*(review.count(word)/len(review))\n",
    "            sent_vec += (vec * tf_idf)\n",
    "            weight_sum += tf_idf\n",
    "    if weight_sum != 0:\n",
    "        sent_vec /= weight_sum\n",
    "    X_train_pre_tf.append(sent_vec)"
   ]
  },
  {
   "cell_type": "code",
   "execution_count": 13,
   "metadata": {},
   "outputs": [
    {
     "name": "stderr",
     "output_type": "stream",
     "text": [
      "100%|██████████| 129998/129998 [1:42:21<00:00, 21.17it/s]  \n"
     ]
    }
   ],
   "source": [
    "X_test_pre_tf = []\n",
    "\n",
    "#test set\n",
    "for review in tqdm(X_test):\n",
    "    sent_vec = np.zeros(300)\n",
    "    weight_sum = 0\n",
    "    for word in review.split():\n",
    "        if (word in w2v_model.wv) and (word in features):\n",
    "            vec = w2v_model.wv[word]\n",
    "            tf_idf = dict_idf[word]*(review.count(word)/len(review))\n",
    "            sent_vec += (vec * tf_idf)\n",
    "            weight_sum += tf_idf\n",
    "    if weight_sum != 0:\n",
    "        sent_vec /= weight_sum\n",
    "    X_test_pre_tf.append(sent_vec)"
   ]
  },
  {
   "cell_type": "markdown",
   "metadata": {},
   "source": [
    "### Word2Vec (Training my model)"
   ]
  },
  {
   "cell_type": "code",
   "execution_count": 15,
   "metadata": {},
   "outputs": [],
   "source": [
    "w2v_model_own = Word2Vec(X_train, size=300, workers=4)"
   ]
  },
  {
   "cell_type": "markdown",
   "metadata": {},
   "source": [
    "#### Getting vectors for sentence using avg-W2V"
   ]
  },
  {
   "cell_type": "code",
   "execution_count": 16,
   "metadata": {},
   "outputs": [
    {
     "name": "stderr",
     "output_type": "stream",
     "text": [
      "100%|██████████| 263933/263933 [01:46<00:00, 2468.54it/s]\n"
     ]
    }
   ],
   "source": [
    "X_train_own_avg = []\n",
    "\n",
    "#handling words that are not in google's vocab differently\n",
    "for review in tqdm(X_train):\n",
    "    sent_vec = np.zeros(300)\n",
    "    count_of_words_in_review = 0\n",
    "    for word in review.split():\n",
    "        if word not in w2v_model_own.wv:\n",
    "            sent_vec += np.random.uniform(-0.25,0.25,300)\n",
    "        else:\n",
    "            sent_vec += w2v_model_own.wv[word]\n",
    "        count_of_words_in_review += 1\n",
    "    if count_of_words_in_review != 0:\n",
    "        sent_vec /= count_of_words_in_review\n",
    "    X_train_own_avg.append(sent_vec)"
   ]
  },
  {
   "cell_type": "code",
   "execution_count": 17,
   "metadata": {},
   "outputs": [
    {
     "name": "stderr",
     "output_type": "stream",
     "text": [
      "100%|██████████| 129998/129998 [00:48<00:00, 2671.66it/s]\n"
     ]
    }
   ],
   "source": [
    "X_test_own_avg = []\n",
    "\n",
    "#handling words that are not in google's vocab differently\n",
    "for review in tqdm(X_test):\n",
    "    sent_vec = np.zeros(300)\n",
    "    count_of_words_in_review = 0\n",
    "    for word in review.split():\n",
    "        if word not in w2v_model_own.wv:\n",
    "            sent_vec += np.random.uniform(-0.25,0.25,300)\n",
    "        else:\n",
    "            sent_vec += w2v_model_own.wv[word]\n",
    "        count_of_words_in_review += 1\n",
    "    if count_of_words_in_review != 0:\n",
    "        sent_vec /= count_of_words_in_review\n",
    "    X_test_own_avg.append(sent_vec)"
   ]
  },
  {
   "cell_type": "markdown",
   "metadata": {},
   "source": [
    "#### Getting vectors for sentence using TF-IDF W2V"
   ]
  },
  {
   "cell_type": "code",
   "execution_count": 18,
   "metadata": {},
   "outputs": [
    {
     "name": "stderr",
     "output_type": "stream",
     "text": [
      "100%|██████████| 263933/263933 [00:06<00:00, 40360.96it/s]\n"
     ]
    }
   ],
   "source": [
    "X_train_own_tf = []\n",
    "\n",
    "#handling words that are not in google's vocab differently\n",
    "for review in tqdm(X_train):\n",
    "    sent_vec = np.zeros(300)\n",
    "    weight_sum = 0\n",
    "    for word in review.split():\n",
    "        if (word in w2v_model_own.wv) and (word in features):\n",
    "            vec = w2v_model_own.wv[word]\n",
    "            tf_idf = dict_idf[word]*(review.count(word)/len(review))\n",
    "            sent_vec += (vec * tf_idf)\n",
    "            weight_sum += tf_idf\n",
    "    if weight_sum != 0:\n",
    "        sent_vec /= weight_sum\n",
    "    X_train_own_tf.append(sent_vec)"
   ]
  },
  {
   "cell_type": "code",
   "execution_count": 19,
   "metadata": {},
   "outputs": [
    {
     "name": "stderr",
     "output_type": "stream",
     "text": [
      "100%|██████████| 129998/129998 [00:03<00:00, 43240.63it/s]\n"
     ]
    }
   ],
   "source": [
    "X_test_own_tf = []\n",
    "\n",
    "#handling words that are not in google's vocab differently\n",
    "for review in tqdm(X_test):\n",
    "    sent_vec = np.zeros(300)\n",
    "    weight_sum = 0\n",
    "    for word in review.split():\n",
    "        if (word in w2v_model_own.wv) and (word in features):\n",
    "            vec = w2v_model_own.wv[word]\n",
    "            tf_idf = dict_idf[word]*(review.count(word)/len(review))\n",
    "            sent_vec += (vec * tf_idf)\n",
    "            weight_sum += tf_idf\n",
    "    if weight_sum != 0:\n",
    "        sent_vec /= weight_sum\n",
    "    X_test_own_tf.append(sent_vec)"
   ]
  },
  {
   "cell_type": "markdown",
   "metadata": {},
   "source": [
    "Now we have <b> 8 representations of our reviews </b> to play around with.\n",
    "1. BOWs unigram and bigram\n",
    "2. TF-IDF unigram and bigram\n",
    "3. Google's pre-defined model: avg-w2v and tfidf-w2v\n",
    "4. Our own W2V model: avg-w2v and tfidf-w2v"
   ]
  },
  {
   "cell_type": "markdown",
   "metadata": {},
   "source": [
    "<b> Checkpoint 3: Saving object </b>"
   ]
  },
  {
   "cell_type": "code",
   "execution_count": 20,
   "metadata": {},
   "outputs": [],
   "source": [
    "savetofile(X_train_bow_uni, 'bowuni')\n",
    "savetofile(X_test_bow_uni, 'bowuni_test')"
   ]
  },
  {
   "cell_type": "code",
   "execution_count": 21,
   "metadata": {},
   "outputs": [],
   "source": [
    "savetofile(X_train_bow_bi, 'bowbi')\n",
    "savetofile(X_test_bow_bi, 'bowbi_test')"
   ]
  },
  {
   "cell_type": "code",
   "execution_count": 22,
   "metadata": {},
   "outputs": [],
   "source": [
    "savetofile(X_train_tf_uni, 'tfidfuni')\n",
    "savetofile(X_test_tf_uni, 'tfidfuni_test')"
   ]
  },
  {
   "cell_type": "code",
   "execution_count": 23,
   "metadata": {},
   "outputs": [],
   "source": [
    "savetofile(X_train_tf_bi, 'tfidfbi')\n",
    "savetofile(X_test_tf_bi, 'tfidfbi_test')"
   ]
  },
  {
   "cell_type": "code",
   "execution_count": 24,
   "metadata": {},
   "outputs": [],
   "source": [
    "savetofile(X_train_pre_avg, 'pre-avg-w2v')\n",
    "savetofile(X_test_pre_avg, 'pre-avg-w2v_test')"
   ]
  },
  {
   "cell_type": "code",
   "execution_count": 25,
   "metadata": {},
   "outputs": [],
   "source": [
    "savetofile(X_train_pre_tf, 'pre-tfidf-w2v')\n",
    "savetofile(X_test_pre_tf, 'pre-tfidf-w2v_test')"
   ]
  },
  {
   "cell_type": "code",
   "execution_count": 26,
   "metadata": {},
   "outputs": [],
   "source": [
    "savetofile(X_train_own_avg, 'own-avg-w2v')\n",
    "savetofile(X_test_own_avg, 'own-avg-w2v_test')"
   ]
  },
  {
   "cell_type": "code",
   "execution_count": 27,
   "metadata": {},
   "outputs": [],
   "source": [
    "savetofile(X_train_own_tf, 'own-tfidf-w2v')\n",
    "savetofile(X_test_own_tf, 'own-tfidf-w2v_test')"
   ]
  },
  {
   "cell_type": "code",
   "execution_count": 3,
   "metadata": {},
   "outputs": [],
   "source": [
    "X_train_bow_uni = openfromfile('bowuni')\n",
    "X_test_bow_uni = openfromfile('bowuni_test')\n",
    "\n",
    "X_train_bow_bi = openfromfile('bowbi')\n",
    "X_test_bow_bi = openfromfile('bowbi_test')\n",
    "\n",
    "X_train_tf_uni = openfromfile('tfidfuni')\n",
    "X_test_tf_uni = openfromfile('tfidfuni_test')\n",
    "\n",
    "X_train_tf_bi = openfromfile('tfidfbi')\n",
    "X_test_tf_bi = openfromfile('tfidfbi_test')\n",
    "\n",
    "X_train_pre_avg = openfromfile('pre-avg-w2v')\n",
    "X_test_pre_avg = openfromfile('pre-avg-w2v_test')\n",
    "\n",
    "X_train_pre_tf = openfromfile('pre-tfidf-w2v')\n",
    "X_test_pre_tf = openfromfile('pre-tfidf-w2v_test')\n",
    "\n",
    "X_train_own_avg = openfromfile('own-avg-w2v')\n",
    "X_test_own_avg = openfromfile('own-avg-w2v_test')\n",
    "\n",
    "X_train_own_tf = openfromfile('own-tfidf-w2v')\n",
    "X_test__own_tf = openfromfile('own-tfidf-w2v_test')"
   ]
  },
  {
   "cell_type": "markdown",
   "metadata": {},
   "source": [
    "## KNN"
   ]
  },
  {
   "cell_type": "markdown",
   "metadata": {},
   "source": [
    "First algorithm we'll analyse on our Amazon FR dataset is K-Nearest Neighbor. We'll do hyperparameter tuning for K in KNN using GridSearchCV and train our model for optimal K."
   ]
  },
  {
   "cell_type": "code",
   "execution_count": 31,
   "metadata": {},
   "outputs": [],
   "source": [
    "myList = list(range(0,50))"
   ]
  },
  {
   "cell_type": "code",
   "execution_count": 16,
   "metadata": {},
   "outputs": [],
   "source": [
    "def find_best_threshold(threshould, fpr, tpr):\n",
    "    t = threshould[np.argmax(tpr*(1-fpr))]\n",
    "    # (tpr*(1-fpr)) will be maximum if your fpr is very low and tpr is very high\n",
    "    print(\"the maximum value of tpr*(1-fpr)\", max(tpr*(1-fpr)), \"for threshold\", np.round(t,3))\n",
    "    return t\n",
    "\n",
    "def predict_with_best_t(proba, threshould):\n",
    "    predictions = []\n",
    "    for i in proba:\n",
    "        if i>=threshould:\n",
    "            predictions.append(1)\n",
    "        else:\n",
    "            predictions.append(0)\n",
    "    return predictions"
   ]
  },
  {
   "cell_type": "markdown",
   "metadata": {},
   "source": [
    "### On Unigram BOWs"
   ]
  },
  {
   "cell_type": "code",
   "execution_count": 34,
   "metadata": {},
   "outputs": [
    {
     "name": "stdout",
     "output_type": "stream",
     "text": [
      "Fitting 3 folds for each of 25 candidates, totalling 75 fits\n"
     ]
    },
    {
     "name": "stderr",
     "output_type": "stream",
     "text": [
      "[Parallel(n_jobs=4)]: Using backend LokyBackend with 4 concurrent workers.\n",
      "[Parallel(n_jobs=4)]: Done  10 tasks      | elapsed: 43.3min\n",
      "[Parallel(n_jobs=4)]: Done  64 tasks      | elapsed: 250.4min\n",
      "[Parallel(n_jobs=4)]: Done  75 out of  75 | elapsed: 297.2min finished\n"
     ]
    },
    {
     "data": {
      "text/plain": [
       "GridSearchCV(cv='warn', error_score='raise-deprecating',\n",
       "             estimator=KNeighborsClassifier(algorithm='auto', leaf_size=30,\n",
       "                                            metric='minkowski',\n",
       "                                            metric_params=None, n_jobs=None,\n",
       "                                            n_neighbors=5, p=2,\n",
       "                                            weights='uniform'),\n",
       "             iid='warn', n_jobs=4,\n",
       "             param_grid={'n_neighbors': [1, 3, 5, 7, 9, 11, 13, 15, 17, 19, 21,\n",
       "                                         23, 25, 27, 29, 31, 33, 35, 37, 39, 41,\n",
       "                                         43, 45, 47, 49]},\n",
       "             pre_dispatch='2*n_jobs', refit=True, return_train_score=False,\n",
       "             scoring='roc_auc', verbose=5)"
      ]
     },
     "execution_count": 34,
     "metadata": {},
     "output_type": "execute_result"
    }
   ],
   "source": [
    "# Hyper-parameter tuning for K in K-NN\n",
    "neigh = KNeighborsClassifier()\n",
    "\n",
    "neighbors = list(filter(lambda x: x % 2 != 0, myList))\n",
    "parameters = {'n_neighbors':neighbors}\n",
    "clf = GridSearchCV(neigh, parameters, scoring='roc_auc', verbose=5, n_jobs=4)\n",
    "clf.fit(X_train_bow_uni, y_train)"
   ]
  },
  {
   "cell_type": "code",
   "execution_count": 58,
   "metadata": {},
   "outputs": [
    {
     "data": {
      "image/png": "[encoded data removed]",
      "text/plain": [
       "<Figure size 432x288 with 1 Axes>"
      ]
     },
     "metadata": {
      "needs_background": "light"
     },
     "output_type": "display_data"
    }
   ],
   "source": [
    "cv_auc = clf.cv_results_['mean_test_score']\n",
    "cv_auc_std= clf.cv_results_['std_test_score']\n",
    "\n",
    "plt.plot(neighbors, cv_auc, label='CV AUC')\n",
    "plt.gca().fill_between(neighbors,cv_auc - cv_auc_std,cv_auc + cv_auc_std,alpha=0.2,color='darkorange')\n",
    "plt.legend()\n",
    "plt.xlabel(\"K: hyperparameter\")\n",
    "plt.ylabel(\"AUC\")\n",
    "plt.title(\"AUC PLOTS\")\n",
    "plt.show()"
   ]
  },
  {
   "cell_type": "markdown",
   "metadata": {},
   "source": [
    "The graph shows that AUC increased rather stepply from K = 10 to K = 30 but has started to flatten out a little from K = 30 onwards."
   ]
  },
  {
   "cell_type": "code",
   "execution_count": 36,
   "metadata": {},
   "outputs": [
    {
     "name": "stdout",
     "output_type": "stream",
     "text": [
      "Our optimal K is: 49\n"
     ]
    }
   ],
   "source": [
    "# extracting K for which our CV AUC is maximum\n",
    "idx = np.where(cv_auc == cv_auc.max())\n",
    "\n",
    "best_k = idx[0][0]*2 + 1\n",
    "print('Our optimal K is: {}'.format(best_k))"
   ]
  },
  {
   "cell_type": "markdown",
   "metadata": {},
   "source": [
    "As graph still continues to grow upwards and even the best value of K is 49 (which is the last value we tested for, I would like to try further values of K and see if we the trend of the graph above."
   ]
  },
  {
   "cell_type": "code",
   "execution_count": 37,
   "metadata": {},
   "outputs": [
    {
     "name": "stdout",
     "output_type": "stream",
     "text": [
      "Fitting 3 folds for each of 10 candidates, totalling 30 fits\n"
     ]
    },
    {
     "name": "stderr",
     "output_type": "stream",
     "text": [
      "[Parallel(n_jobs=4)]: Using backend LokyBackend with 4 concurrent workers.\n",
      "[Parallel(n_jobs=4)]: Done  10 tasks      | elapsed: 47.4min\n",
      "[Parallel(n_jobs=4)]: Done  30 out of  30 | elapsed: 126.8min remaining:    0.0s\n",
      "[Parallel(n_jobs=4)]: Done  30 out of  30 | elapsed: 126.8min finished\n"
     ]
    },
    {
     "data": {
      "text/plain": [
       "GridSearchCV(cv='warn', error_score='raise-deprecating',\n",
       "             estimator=KNeighborsClassifier(algorithm='auto', leaf_size=30,\n",
       "                                            metric='minkowski',\n",
       "                                            metric_params=None, n_jobs=None,\n",
       "                                            n_neighbors=5, p=2,\n",
       "                                            weights='uniform'),\n",
       "             iid='warn', n_jobs=4,\n",
       "             param_grid={'n_neighbors': [51, 53, 55, 57, 59, 61, 63, 65, 67,\n",
       "                                         69]},\n",
       "             pre_dispatch='2*n_jobs', refit=True, return_train_score=False,\n",
       "             scoring='roc_auc', verbose=5)"
      ]
     },
     "execution_count": 37,
     "metadata": {},
     "output_type": "execute_result"
    }
   ],
   "source": [
    "myListNew = list(range(50, 70))\n",
    "\n",
    "# Hyper-parameter tuning for K in K-NN\n",
    "neigh = KNeighborsClassifier()\n",
    "\n",
    "neighbors = list(filter(lambda x: x % 2 != 0, myListNew))\n",
    "parameters = {'n_neighbors':neighbors}\n",
    "clfNew = GridSearchCV(neigh, parameters, scoring='roc_auc', verbose=5, n_jobs=4)\n",
    "clfNew.fit(X_train_bow_uni, y_train)"
   ]
  },
  {
   "cell_type": "code",
   "execution_count": 57,
   "metadata": {},
   "outputs": [
    {
     "name": "stdout",
     "output_type": "stream",
     "text": [
      "[0.61343861 0.68372464 0.71515906 0.73146784 0.74333235 0.75116904\n",
      " 0.75704922 0.76177294 0.7655134  0.76798447 0.77049113 0.7725303\n",
      " 0.77420256 0.77585006 0.77738269 0.77829469 0.77951426 0.78034155\n",
      " 0.78122775 0.78206955 0.78284885 0.78346154 0.78404316 0.78472143\n",
      " 0.78531701]\n"
     ]
    },
    {
     "data": {
      "image/png": "[encoded data removed]",
      "text/plain": [
       "<Figure size 432x288 with 1 Axes>"
      ]
     },
     "metadata": {
      "needs_background": "light"
     },
     "output_type": "display_data"
    }
   ],
   "source": [
    "cv_aucNew = clfNew.cv_results_['mean_test_score']\n",
    "cv_auc_stdNew = clfNew.cv_results_['std_test_score']\n",
    "print(cv_auc)\n",
    "\n",
    "plt.plot(neighbors + (list(filter(lambda x: x % 2 != 0, myListNew))), np.append(cv_auc, cv_aucNew), label='CV AUC')\n",
    "plt.gca().fill_between(neighbors + (list(filter(lambda x: x % 2 != 0, myListNew))),np.append(cv_auc, cv_aucNew) - np.append(cv_auc_std, cv_auc_stdNew),np.append(cv_auc, cv_aucNew) + np.append(cv_auc_std, cv_auc_stdNew),alpha=0.2,color='darkorange')\n",
    "plt.legend()\n",
    "plt.xlabel(\"K: hyperparameter\")\n",
    "plt.ylabel(\"AUC\")\n",
    "plt.title(\"AUC PLOTS\")\n",
    "plt.show()"
   ]
  },
  {
   "cell_type": "markdown",
   "metadata": {},
   "source": [
    "As we can see from the AUC scores above and the grapth that AUC curves has steepen alot. In fact the more I'll increase K the more my model will tend to underfit. "
   ]
  },
  {
   "cell_type": "code",
   "execution_count": 59,
   "metadata": {},
   "outputs": [
    {
     "name": "stdout",
     "output_type": "stream",
     "text": [
      "Our optimal K is: 69\n"
     ]
    }
   ],
   "source": [
    "# extracting K for which our CV AUC is maximum\n",
    "idx = np.where(np.append(cv_auc, cv_aucNew) == np.append(cv_auc, cv_aucNew).max())\n",
    "\n",
    "best_k = idx[0][0]*2 + 1\n",
    "print('Our optimal K is: {}'.format(best_k))"
   ]
  },
  {
   "cell_type": "markdown",
   "metadata": {},
   "source": [
    "K = 69 sounds good enough to choose."
   ]
  },
  {
   "cell_type": "code",
   "execution_count": 62,
   "metadata": {},
   "outputs": [
    {
     "data": {
      "image/png": "[encoded data removed]",
      "text/plain": [
       "<Figure size 432x288 with 1 Axes>"
      ]
     },
     "metadata": {
      "needs_background": "light"
     },
     "output_type": "display_data"
    }
   ],
   "source": [
    "#Train our KNN model using our Training Dataset and optimal K found above\n",
    "\n",
    "neigh = KNeighborsClassifier(n_neighbors=best_k, n_jobs=4)\n",
    "neigh.fit(X_train_bow_uni, y_train)\n",
    "\n",
    "y_train_probs = neigh.predict_proba(X_train_bow_uni)[:,1]\n",
    "y_test_probs = neigh.predict_proba(X_test_bow_uni)[:,1]\n",
    "\n",
    "train_fpr, train_tpr, thresholds_tr = roc_curve(y_train, y_train_probs)\n",
    "test_fpr, test_tpr, thresholds_tst = roc_curve(y_test, y_test_probs)\n",
    "\n",
    "plt.plot(train_fpr, train_tpr, label=\"train AUC =\"+str(auc(train_fpr, train_tpr)))\n",
    "plt.plot(test_fpr, test_tpr, label=\"test AUC =\"+str(auc(test_fpr, test_tpr)))\n",
    "plt.legend()\n",
    "plt.xlabel(\"FPR\")\n",
    "plt.ylabel(\"TPR\")\n",
    "plt.title(\"AUC PLOTS\")\n",
    "plt.show()"
   ]
  },
  {
   "cell_type": "markdown",
   "metadata": {},
   "source": [
    "We get a very good AUC score of 0.79 (in a separate analysis we got an AUC score of 0.67 with 100K data points and K = 49. This shows that <b> indeed more the data the merrier. <b>"
   ]
  },
  {
   "cell_type": "code",
   "execution_count": 70,
   "metadata": {},
   "outputs": [
    {
     "name": "stdout",
     "output_type": "stream",
     "text": [
      "the maximum value of tpr*(1-fpr) 0.5562310362482195 for threshold 0.87\n",
      "Train confusion matrix\n"
     ]
    },
    {
     "data": {
      "text/plain": [
       "<matplotlib.axes._subplots.AxesSubplot at 0x7f9279acf400>"
      ]
     },
     "execution_count": 70,
     "metadata": {},
     "output_type": "execute_result"
    },
    {
     "data": {
      "image/png": "[encoded data removed]",
      "text/plain": [
       "<Figure size 432x288 with 2 Axes>"
      ]
     },
     "metadata": {
      "needs_background": "light"
     },
     "output_type": "display_data"
    }
   ],
   "source": [
    "best_t_tr = find_best_threshold(thresholds_tr, train_fpr, train_tpr)\n",
    "print(\"Train confusion matrix\")\n",
    "cnf_mat_tr = confusion_matrix(y_train, predict_with_best_t(y_train_probs, best_t_tr))\n",
    "sns.heatmap(cnf_mat_tr, annot=True, fmt='g', linewidths=0.5, xticklabels=['Predicted 0', 'Predicted 1'], yticklabels=['Actual 0', 'Actual 1'])"
   ]
  },
  {
   "cell_type": "markdown",
   "metadata": {},
   "source": [
    "Even tough we have a AUC value of 0.79, we can see a maasive ~66K points as false negatives."
   ]
  },
  {
   "cell_type": "markdown",
   "metadata": {},
   "source": [
    "Let's try KNN using cosine distance instead of Euclidean distances. The reason for this is that Euclidean distances suffer from <b> curse of dimensionality </b> and we have around 85K features in this representation."
   ]
  },
  {
   "cell_type": "markdown",
   "metadata": {},
   "source": [
    "We'll also optimize of K-parameter search from 40-70 instead of 0-70."
   ]
  },
  {
   "cell_type": "code",
   "execution_count": 7,
   "metadata": {},
   "outputs": [
    {
     "name": "stdout",
     "output_type": "stream",
     "text": [
      "Fitting 3 folds for each of 15 candidates, totalling 45 fits\n"
     ]
    },
    {
     "name": "stderr",
     "output_type": "stream",
     "text": [
      "[Parallel(n_jobs=4)]: Using backend LokyBackend with 4 concurrent workers.\n",
      "[Parallel(n_jobs=4)]: Done  10 tasks      | elapsed: 45.3min\n",
      "[Parallel(n_jobs=4)]: Done  45 out of  45 | elapsed: 182.8min finished\n"
     ]
    },
    {
     "data": {
      "text/plain": [
       "GridSearchCV(cv='warn', error_score='raise-deprecating',\n",
       "             estimator=KNeighborsClassifier(algorithm='auto', leaf_size=30,\n",
       "                                            metric='cosine', metric_params=None,\n",
       "                                            n_jobs=None, n_neighbors=5, p=2,\n",
       "                                            weights='uniform'),\n",
       "             iid='warn', n_jobs=4,\n",
       "             param_grid={'n_neighbors': [41, 43, 45, 47, 49, 51, 53, 55, 57, 59,\n",
       "                                         61, 63, 65, 67, 69]},\n",
       "             pre_dispatch='2*n_jobs', refit=True, return_train_score=False,\n",
       "             scoring='roc_auc', verbose=5)"
      ]
     },
     "execution_count": 7,
     "metadata": {},
     "output_type": "execute_result"
    }
   ],
   "source": [
    "# Hyper-parameter tuning for K in K-NN\n",
    "neigh = KNeighborsClassifier(metric='cosine')\n",
    "\n",
    "myList = list(range(40,70))\n",
    "neighbors = list(filter(lambda x: x % 2 != 0, myList))\n",
    "parameters = {'n_neighbors':neighbors}\n",
    "clf = GridSearchCV(neigh, parameters, scoring='roc_auc', verbose=5, n_jobs=4)\n",
    "clf.fit(X_train_bow_uni, y_train)"
   ]
  },
  {
   "cell_type": "code",
   "execution_count": 14,
   "metadata": {},
   "outputs": [
    {
     "data": {
      "image/png": "[encoded data removed]",
      "text/plain": [
       "<Figure size 432x288 with 1 Axes>"
      ]
     },
     "metadata": {
      "needs_background": "light"
     },
     "output_type": "display_data"
    }
   ],
   "source": [
    "cv_auc = clf.cv_results_['mean_test_score']\n",
    "cv_auc_std = clf.cv_results_['std_test_score']\n",
    "\n",
    "plt.plot(neighbors, cv_auc, label='CV AUC')\n",
    "plt.gca().fill_between(neighbors,cv_auc - cv_auc_std,cv_auc + cv_auc_std,alpha=0.2,color='darkorange')\n",
    "plt.legend()\n",
    "plt.xlabel(\"K: hyperparameter\")\n",
    "plt.ylabel(\"AUC\")\n",
    "plt.ylim([0,1])\n",
    "plt.title(\"AUC PLOT\")\n",
    "plt.show()"
   ]
  },
  {
   "cell_type": "markdown",
   "metadata": {},
   "source": [
    "The CV AUCs vary from 0.831 to 0.834 approximately for K values ranging from 40-70. This shows that there is not much increase in AUC values. A flat line."
   ]
  },
  {
   "cell_type": "code",
   "execution_count": 12,
   "metadata": {},
   "outputs": [
    {
     "name": "stdout",
     "output_type": "stream",
     "text": [
      "Our optimal K is: 69\n"
     ]
    }
   ],
   "source": [
    "# extracting K for which our CV AUC is maximum\n",
    "idx = np.where(cv_auc == cv_auc.max())\n",
    "\n",
    "best_k = 40 + idx[0][0]*2 + 1\n",
    "print('Our optimal K is: {}'.format(best_k))"
   ]
  },
  {
   "cell_type": "code",
   "execution_count": 13,
   "metadata": {},
   "outputs": [
    {
     "data": {
      "image/png": "[encoded data removed]",
      "text/plain": [
       "<Figure size 432x288 with 1 Axes>"
      ]
     },
     "metadata": {
      "needs_background": "light"
     },
     "output_type": "display_data"
    }
   ],
   "source": [
    "#Train our KNN model using our Training Dataset and optimal K found above\n",
    "\n",
    "neigh = KNeighborsClassifier(n_neighbors=best_k, n_jobs=4, metric='cosine')\n",
    "neigh.fit(X_train_bow_uni, y_train)\n",
    "\n",
    "y_train_probs = neigh.predict_proba(X_train_bow_uni)[:,1]\n",
    "y_test_probs = neigh.predict_proba(X_test_bow_uni)[:,1]\n",
    "\n",
    "train_fpr, train_tpr, thresholds_tr = roc_curve(y_train, y_train_probs)\n",
    "test_fpr, test_tpr, thresholds_tst = roc_curve(y_test, y_test_probs)\n",
    "\n",
    "plt.plot(train_fpr, train_tpr, label=\"train AUC =\"+str(auc(train_fpr, train_tpr)))\n",
    "plt.plot(test_fpr, test_tpr, label=\"test AUC =\"+str(auc(test_fpr, test_tpr)))\n",
    "plt.legend()\n",
    "plt.xlabel(\"FPR\")\n",
    "plt.ylabel(\"TPR\")\n",
    "plt.title(\"AUC PLOTS\")\n",
    "plt.show()"
   ]
  },
  {
   "cell_type": "code",
   "execution_count": 17,
   "metadata": {},
   "outputs": [
    {
     "name": "stdout",
     "output_type": "stream",
     "text": [
      "the maximum value of tpr*(1-fpr) 0.6023364385365957 for threshold 0.812\n",
      "Train confusion matrix\n"
     ]
    },
    {
     "data": {
      "text/plain": [
       "<matplotlib.axes._subplots.AxesSubplot at 0x7f16892d6278>"
      ]
     },
     "execution_count": 17,
     "metadata": {},
     "output_type": "execute_result"
    },
    {
     "data": {
      "image/png": "[encoded data removed]",
      "text/plain": [
       "<Figure size 432x288 with 2 Axes>"
      ]
     },
     "metadata": {
      "needs_background": "light"
     },
     "output_type": "display_data"
    }
   ],
   "source": [
    "best_t_tr = find_best_threshold(thresholds_tr, train_fpr, train_tpr)\n",
    "print(\"Train confusion matrix\")\n",
    "cnf_mat_tr = confusion_matrix(y_train, predict_with_best_t(y_train_probs, best_t_tr))\n",
    "sns.heatmap(cnf_mat_tr, annot=True, fmt='g', linewidths=0.5, xticklabels=['Predicted 0', 'Predicted 1'], yticklabels=['Actual 0', 'Actual 1'])"
   ]
  },
  {
   "cell_type": "markdown",
   "metadata": {},
   "source": [
    "The performace in improved drastically by using cosine distance as metric: false negatives ar reduced by 10K and test AUC is 0.83 (increased by 0.04)"
   ]
  },
  {
   "cell_type": "code",
   "execution_count": 18,
   "metadata": {},
   "outputs": [
    {
     "name": "stdout",
     "output_type": "stream",
     "text": [
      "Test confusion matrix\n"
     ]
    },
    {
     "data": {
      "text/plain": [
       "<matplotlib.axes._subplots.AxesSubplot at 0x7f168910c208>"
      ]
     },
     "execution_count": 18,
     "metadata": {},
     "output_type": "execute_result"
    },
    {
     "data": {
      "image/png": "[encoded data removed]",
      "text/plain": [
       "<Figure size 432x288 with 2 Axes>"
      ]
     },
     "metadata": {
      "needs_background": "light"
     },
     "output_type": "display_data"
    }
   ],
   "source": [
    "print(\"Test confusion matrix\")\n",
    "cnf_mat_test = confusion_matrix(y_test, predict_with_best_t(y_test_probs, best_t_tr))\n",
    "sns.heatmap(cnf_mat_test, annot=True, fmt='g', linewidths=0.5, xticklabels=['Predicted 0', 'Predicted 1'], yticklabels=['Actual 0', 'Actual 1'])"
   ]
  },
  {
   "cell_type": "markdown",
   "metadata": {},
   "source": [
    "<b> Takeaways till now: </b>\n",
    "1. Need to use cosine distance as metric for future representations.\n",
    "2. Search for hyperparameter K should start from 40 and can be taken up to 100 at increments of 10 (this is bcoz we've seen very similar results for K from 40 to 70.)"
   ]
  },
  {
   "cell_type": "code",
   "execution_count": null,
   "metadata": {},
   "outputs": [],
   "source": []
  }
 ],
 "metadata": {
  "kernelspec": {
   "display_name": "Python 3",
   "language": "python",
   "name": "python3"
  },
  "language_info": {
   "codemirror_mode": {
    "name": "ipython",
    "version": 3
   },
   "file_extension": ".py",
   "mimetype": "text/x-python",
   "name": "python",
   "nbconvert_exporter": "python",
   "pygments_lexer": "ipython3",
   "version": "3.5.2"
  },
  "toc": {
   "base_numbering": 1,
   "nav_menu": {},
   "number_sections": true,
   "sideBar": true,
   "skip_h1_title": false,
   "title_cell": "Table of Contents",
   "title_sidebar": "Contents",
   "toc_cell": false,
   "toc_position": {},
   "toc_section_display": true,
   "toc_window_display": false
  }
 },
 "nbformat": 4,
 "nbformat_minor": 2
}
